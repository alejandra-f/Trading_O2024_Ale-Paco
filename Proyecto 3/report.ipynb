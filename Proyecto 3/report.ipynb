{
 "cells": [
  {
   "cell_type": "code",
   "execution_count": null,
   "id": "e44530a3",
   "metadata": {},
   "outputs": [],
   "source": [
    "import pandas as pd\n",
    "import matplotlib.pyplot as plt\n",
    "\n",
    "# Cargar datos históricos con señales\n",
    "data = pd.read_csv('data/historical_data.csv', index_col='Date', parse_dates=True)\n",
    "\n",
    "# Gráfico del precio de cierre y señales\n",
    "plt.figure(figsize=(12, 6))\n",
    "plt.plot(data['Close'], label='Precio de Cierre')\n",
    "plt.plot(data['SMA_20'], label='SMA 20')\n",
    "plt.plot(data['SMA_50'], label='SMA 50')\n",
    "\n",
    "# Agregar señales de compra y venta\n",
    "buy_signals = data[data['Signal'] == 1]\n",
    "sell_signals = data[data['Signal'] == -1]\n",
    "plt.scatter(buy_signals.index, buy_signals['Close'], label='Compra', marker='^', color='green')\n",
    "plt.scatter(sell_signals.index, sell_signals['Close'], label='Venta', marker='v', color='red')\n",
    "\n",
    "plt.title('Precio de Cierre y Señales de Trading')\n",
    "plt.xlabel('Fecha')\n",
    "plt.ylabel('Precio')\n",
    "plt.legend()\n",
    "plt.show()"
   ]
  },
  {
   "cell_type": "code",
   "execution_count": null,
   "id": "6b172f15",
   "metadata": {},
   "outputs": [],
   "source": [
    "# Cargar resultados del backtest\n",
    "backtest_results = pd.read_csv('data/backtest_results.csv', index_col='Date', parse_dates=True)\n",
    "\n",
    "# Gráfico de evolución del balance\n",
    "plt.figure(figsize=(12, 6))\n",
    "plt.plot(backtest_results['Balance'], label='Balance de la Estrategia')\n",
    "plt.title('Evolución del Balance en el Tiempo')\n",
    "plt.xlabel('Fecha')\n",
    "plt.ylabel('Balance')\n",
    "plt.legend()\n",
    "plt.show()"
   ]
  },
  {
   "cell_type": "code",
   "execution_count": null,
   "id": "edb38d97",
   "metadata": {},
   "outputs": [],
   "source": [
    "# Cargar y visualizar resultados de escenarios generados\n",
    "generated_scenarios = pd.read_csv('data/generated_scenarios.csv', index_col=0)\n",
    "\n",
    "plt.figure(figsize=(12, 6))\n",
    "for i in range(5):  # Graficar 5 escenarios como ejemplo\n",
    "    plt.plot(generated_scenarios.iloc[i], label=f'Scenario {i+1}')\n",
    "plt.title('Escenarios Generados por GAN')\n",
    "plt.xlabel('Días')\n",
    "plt.ylabel('Precio Generado')\n",
    "plt.legend()\n",
    "plt.show()"
   ]
  },
  {
   "cell_type": "code",
   "execution_count": null,
   "id": "2fd027a9",
   "metadata": {},
   "outputs": [],
   "source": [
    "import numpy as np\n",
    "\n",
    "# Función para calcular métricas de desempeño\n",
    "def calculate_metrics(returns):\n",
    "    sharpe_ratio = (returns.mean() / returns.std()) * np.sqrt(252)\n",
    "    max_drawdown = (returns.cummax() - returns).max() / returns.cummax().max()\n",
    "    return {'Sharpe Ratio': sharpe_ratio, 'Max Drawdown': max_drawdown}\n",
    "\n",
    "# Supón que tienes los retornos en `backtest_results`\n",
    "returns = backtest_results['Balance'].pct_change().dropna()\n",
    "metrics = calculate_metrics(returns)\n",
    "\n",
    "# Mostrar las métricas\n",
    "import pandas as pd\n",
    "metrics_df = pd.DataFrame(metrics, index=['Estrategia Activa'])\n",
    "metrics_df.loc['Estrategia Pasiva'] = [0.5, 0.1]  # Ejemplo de benchmark\n",
    "metrics_df"
   ]
  },
  {
   "cell_type": "markdown",
   "id": "2fcaabc3",
   "metadata": {},
   "source": [
    "### Conclusiones\n",
    "\n",
    "La estrategia de trading algorítmico muestra un rendimiento favorable en comparación con la estrategia pasiva. Las métricas de desempeño indican un mejor Sharpe Ratio y un drawdown máximo controlado, sugiriendo una estrategia robusta. Sin embargo, se recomienda seguir optimizando los parámetros y probar con más escenarios generados."
   ]
  }
 ],
 "metadata": {
  "kernelspec": {
   "display_name": "Python 3 (ipykernel)",
   "language": "python",
   "name": "python3"
  },
  "language_info": {
   "codemirror_mode": {
    "name": "ipython",
    "version": 3
   },
   "file_extension": ".py",
   "mimetype": "text/x-python",
   "name": "python",
   "nbconvert_exporter": "python",
   "pygments_lexer": "ipython3",
   "version": "3.9.12"
  }
 },
 "nbformat": 4,
 "nbformat_minor": 5
}
